{
 "cells": [
  {
   "cell_type": "code",
   "execution_count": 126,
   "metadata": {},
   "outputs": [],
   "source": [
    "import matplotlib\n",
    "import numpy as np\n",
    "import matplotlib.pyplot as plt\n",
    "%matplotlib inline"
   ]
  },
  {
   "cell_type": "code",
   "execution_count": 127,
   "metadata": {},
   "outputs": [],
   "source": [
    "from sympy import *"
   ]
  },
  {
   "cell_type": "markdown",
   "metadata": {},
   "source": [
    "<b>Домашнее задание: оптимизировать x^2*(np.sin(0,5*_x)^2+1)</b>\n",
    "<ul>\n",
    "<li>При каких значениях alpha оптимизация проходит успешно, а при каких \"застревает\"?</li></ul>"
   ]
  },
  {
   "cell_type": "code",
   "execution_count": 128,
   "metadata": {},
   "outputs": [
    {
     "data": {
      "image/png": "[encoded data removed]",
      "text/latex": [
       "$\\displaystyle x^{2} \\left(\\sin^{2}{\\left(0.5 x \\right)} + 1\\right)$"
      ],
      "text/plain": [
       " 2 ⎛   2           ⎞\n",
       "x ⋅⎝sin (0.5⋅x) + 1⎠"
      ]
     },
     "execution_count": 128,
     "metadata": {},
     "output_type": "execute_result"
    }
   ],
   "source": [
    "# f(x)\n",
    "x=Symbol('x')\n",
    "f=x**2*(sin(0.5*x)**2+1)\n",
    "f"
   ]
  },
  {
   "cell_type": "code",
   "execution_count": 129,
   "metadata": {},
   "outputs": [
    {
     "data": {
      "image/png": "[encoded data removed]",
      "text/latex": [
       "$\\displaystyle 1.0 x^{2} \\sin{\\left(0.5 x \\right)} \\cos{\\left(0.5 x \\right)} + 2 x \\left(\\sin^{2}{\\left(0.5 x \\right)} + 1\\right)$"
      ],
      "text/plain": [
       "     2                             ⎛   2           ⎞\n",
       "1.0⋅x ⋅sin(0.5⋅x)⋅cos(0.5⋅x) + 2⋅x⋅⎝sin (0.5⋅x) + 1⎠"
      ]
     },
     "execution_count": 129,
     "metadata": {},
     "output_type": "execute_result"
    }
   ],
   "source": [
    "# призводная f(x)\n",
    "diff(f,x)"
   ]
  },
  {
   "cell_type": "code",
   "execution_count": 130,
   "metadata": {},
   "outputs": [],
   "source": [
    "x = np.linspace(-50, 50, 5000)\n",
    "def func1(_x): return (_x**2)*(np.sin(0.5*_x)**2+1)\n",
    "def grad1(_x): return (_x**2)*np.sin(0.5*_x)*np.cos(0.5*_x)+2*_x*(np.sin(0.5*_x)**2+1)"
   ]
  },
  {
   "cell_type": "code",
   "execution_count": 131,
   "metadata": {},
   "outputs": [],
   "source": [
    "def calculate_grad(func, x0, delta=0.01): return (func(x0+delta)-func(x0))/delta\n",
    "def calculate_grad2(func, x0, delta=0.01): return (func(x0+delta)-func(x0-delta))/(2*delta)"
   ]
  },
  {
   "cell_type": "code",
   "execution_count": 133,
   "metadata": {},
   "outputs": [
    {
     "name": "stdout",
     "output_type": "stream",
     "text": [
      "true grad -189.18221395170536\n",
      "method1 -184.72924952159246\n",
      "method2 -189.17549840949732\n"
     ]
    }
   ],
   "source": [
    "x0=np.random.uniform(-50, 50)\n",
    "print('true grad', grad1(x0))\n",
    "print('method1', calculate_grad(func1, x0))\n",
    "print('method2', calculate_grad2(func1, x0))"
   ]
  },
  {
   "cell_type": "code",
   "execution_count": 134,
   "metadata": {},
   "outputs": [
    {
     "data": {
      "image/png": "[encoded data removed]",
      "text/plain": [
       "<Figure size 432x288 with 1 Axes>"
      ]
     },
     "metadata": {
      "needs_background": "light"
     },
     "output_type": "display_data"
    }
   ],
   "source": [
    "plt.plot(x, func1(x))\n",
    "plt.show()"
   ]
  },
  {
   "cell_type": "code",
   "execution_count": 135,
   "metadata": {},
   "outputs": [
    {
     "name": "stdout",
     "output_type": "stream",
     "text": [
      "-38.193826743662164 1546.2185726303999\n",
      "0.2599797708176794 0.0687251474616376\n",
      "0.21161526253704044 0.04528048619486227\n",
      "0.17267640859891903 0.030038855848983238\n",
      "0.14113299533325385 0.020017544726364307\n",
      "0.11547668108499894 0.013379269145272502\n"
     ]
    }
   ],
   "source": [
    "x0=np.random.uniform(-50, 50)\n",
    "alpha=0.09\n",
    "n_iter=0\n",
    "accuracy=0.01\n",
    "#for x in range(n_iter):\n",
    "while (func1(x0)>accuracy) and (n_iter<10000):\n",
    "    print(x0, func1(x0))\n",
    "    x0-=alpha*grad1(x0)\n",
    "    n_iter+=1"
   ]
  },
  {
   "cell_type": "code",
   "execution_count": 137,
   "metadata": {},
   "outputs": [
    {
     "name": "stdout",
     "output_type": "stream",
     "text": [
      "-0.08944800813997894 0.008016939277468011\n"
     ]
    }
   ],
   "source": [
    "class optimizer:\n",
    "    def __init__(self, alpha, n_iters=10000,  accuracy=0.01):\n",
    "        self.alpha=alpha\n",
    "        self.n_iters=n_iters\n",
    "        self.accuracy=accuracy\n",
    "    def fit(self, func, grad, x0, accuracy):\n",
    "        n_iter=0\n",
    "        while (func1(x0)>accuracy) and (n_iter<self.n_iters):\n",
    "            x0-=self.alpha*grad(x0)\n",
    "            n_iter+=1\n",
    "        return x0\n",
    "opt1=optimizer(alpha, 1000, 0.01)\n",
    "x=opt1.fit(func1, grad1, np.random.uniform(-50, 50), 0.01)\n",
    "print(x, func1(x))"
   ]
  },
  {
   "cell_type": "markdown",
   "metadata": {},
   "source": [
    "При alpha>0.15 и alpha<0.04 количево \"застреваний\" увеливичается. Поэтому alpah оптимально в деапазоне [0.04;0.15]"
   ]
  },
  {
   "cell_type": "code",
   "execution_count": null,
   "metadata": {},
   "outputs": [],
   "source": []
  }
 ],
 "metadata": {
  "kernelspec": {
   "display_name": "Python 3",
   "language": "python",
   "name": "python3"
  },
  "language_info": {
   "codemirror_mode": {
    "name": "ipython",
    "version": 3
   },
   "file_extension": ".py",
   "mimetype": "text/x-python",
   "name": "python",
   "nbconvert_exporter": "python",
   "pygments_lexer": "ipython3",
   "version": "3.7.6"
  }
 },
 "nbformat": 4,
 "nbformat_minor": 4
}
